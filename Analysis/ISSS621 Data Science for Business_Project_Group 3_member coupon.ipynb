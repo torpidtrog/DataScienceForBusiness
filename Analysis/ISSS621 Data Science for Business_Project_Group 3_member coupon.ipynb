{
 "cells": [
  {
   "cell_type": "markdown",
   "id": "d3601bcc",
   "metadata": {},
   "source": [
    "The function below assumes that a member will increase his/her purchase to the minimum spend amount,\n",
    "if the coupon represents a 20% or more discount for the additional purchase amount.\n",
    "\n",
    "The gross margin assumed is 50%, i.e. gross profit = revenue * 50%\n"
   ]
  },
  {
   "cell_type": "code",
   "execution_count": 1,
   "id": "903e20c9",
   "metadata": {},
   "outputs": [],
   "source": [
    "def coupon_benefit(coupon_value, min_spend):\n",
    "    required_discount = 0.2\n",
    "    profit_margin = 0.5\n",
    "#to find the minimum original purchase amount such that using a voucher is considered worthwhile \n",
    "    purchase_min = min_spend - 10/2*coupon_value\n",
    "    \n",
    "    profit_inc = 0\n",
    "    for i in l:\n",
    "        if i >= purchase_min:\n",
    "            new_purchase = max(min_spend, i)\n",
    "            profit_inc = profit_inc + (new_purchase - i)*profit_margin - coupon_value\n",
    "            \n",
    "    return profit_inc"
   ]
  },
  {
   "cell_type": "code",
   "execution_count": 3,
   "id": "b7aa5dcf",
   "metadata": {},
   "outputs": [],
   "source": [
    "import pandas as pd\n",
    "sales = pd.read_csv('supermarket_sales - Sheet1.csv',encoding = \"ISO-8859-1\")"
   ]
  },
  {
   "cell_type": "code",
   "execution_count": 4,
   "id": "0b6882f4",
   "metadata": {},
   "outputs": [],
   "source": [
    "l = sales['Total'][sales[\"Customer type\"] == 'Member']"
   ]
  },
  {
   "cell_type": "code",
   "execution_count": 5,
   "id": "6554f5e9",
   "metadata": {},
   "outputs": [
    {
     "name": "stdout",
     "output_type": "stream",
     "text": [
      "100 : -48150.34824999998\n",
      "300 : -28526.175\n",
      "500 : 4952.451249999997\n",
      "700 : 6921.0520000000015\n",
      "900 : 6308.225000000002\n",
      "1000 : 5984.734250000003\n"
     ]
    }
   ],
   "source": [
    "for min_spend in [100,300,500,700,900,1000]:\n",
    "    print(min_spend,':', coupon_benefit(100, min_spend))"
   ]
  },
  {
   "cell_type": "code",
   "execution_count": null,
   "id": "f0742580",
   "metadata": {},
   "outputs": [],
   "source": []
  }
 ],
 "metadata": {
  "kernelspec": {
   "display_name": "Python 3 (ipykernel)",
   "language": "python",
   "name": "python3"
  },
  "language_info": {
   "codemirror_mode": {
    "name": "ipython",
    "version": 3
   },
   "file_extension": ".py",
   "mimetype": "text/x-python",
   "name": "python",
   "nbconvert_exporter": "python",
   "pygments_lexer": "ipython3",
   "version": "3.9.7"
  }
 },
 "nbformat": 4,
 "nbformat_minor": 5
}
